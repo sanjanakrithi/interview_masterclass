{
 "cells": [
  {
   "cell_type": "code",
   "execution_count": 24,
   "metadata": {},
   "outputs": [],
   "source": [
    "import sqlite3\n",
    "#conn = sqlite3.connect('C:\\sqlite\\db\\sample.db')\n",
    "conn = sqlite3.connect('.\\sample.db')\n",
    "# Creates or opens a file called mydb with a SQLite3 DB\n"
   ]
  },
  {
   "cell_type": "code",
   "execution_count": null,
   "metadata": {},
   "outputs": [],
   "source": []
  },
  {
   "cell_type": "code",
   "execution_count": 25,
   "metadata": {},
   "outputs": [],
   "source": [
    "cursor = conn.cursor()\n"
   ]
  },
  {
   "cell_type": "code",
   "execution_count": 28,
   "metadata": {},
   "outputs": [
    {
     "data": {
      "text/plain": [
       "(149299, 5)"
      ]
     },
     "execution_count": 28,
     "metadata": {},
     "output_type": "execute_result"
    }
   ],
   "source": [
    "import pandas as pd\n",
    "import numpy as np\n",
    "df=pd.read_csv(\"C:\\sqllite\\data.csv\")\n",
    "\n",
    "df.shape"
   ]
  },
  {
   "cell_type": "code",
   "execution_count": 29,
   "metadata": {},
   "outputs": [
    {
     "data": {
      "text/plain": [
       "timestamp      object\n",
       "user_id       float64\n",
       "platform       object\n",
       "course_id     float64\n",
       "chapter_id    float64\n",
       "dtype: object"
      ]
     },
     "execution_count": 29,
     "metadata": {},
     "output_type": "execute_result"
    }
   ],
   "source": [
    "df.dtypes"
   ]
  },
  {
   "cell_type": "code",
   "execution_count": 30,
   "metadata": {},
   "outputs": [
    {
     "data": {
      "text/html": [
       "<div>\n",
       "<style scoped>\n",
       "    .dataframe tbody tr th:only-of-type {\n",
       "        vertical-align: middle;\n",
       "    }\n",
       "\n",
       "    .dataframe tbody tr th {\n",
       "        vertical-align: top;\n",
       "    }\n",
       "\n",
       "    .dataframe thead th {\n",
       "        text-align: right;\n",
       "    }\n",
       "</style>\n",
       "<table border=\"1\" class=\"dataframe\">\n",
       "  <thead>\n",
       "    <tr style=\"text-align: right;\">\n",
       "      <th></th>\n",
       "      <th>timestamp</th>\n",
       "      <th>user_id</th>\n",
       "      <th>platform</th>\n",
       "      <th>course_id</th>\n",
       "      <th>chapter_id</th>\n",
       "    </tr>\n",
       "  </thead>\n",
       "  <tbody>\n",
       "    <tr>\n",
       "      <td>0</td>\n",
       "      <td>2020-03-07 00:00:05.448</td>\n",
       "      <td>3084148</td>\n",
       "      <td>Web</td>\n",
       "      <td>19</td>\n",
       "      <td>502</td>\n",
       "    </tr>\n",
       "    <tr>\n",
       "      <td>1</td>\n",
       "      <td>2020-03-07 00:00:06.822</td>\n",
       "      <td>2817123</td>\n",
       "      <td>Web</td>\n",
       "      <td>61</td>\n",
       "      <td>850</td>\n",
       "    </tr>\n",
       "    <tr>\n",
       "      <td>2</td>\n",
       "      <td>2020-03-07 00:00:07.521</td>\n",
       "      <td>3122446</td>\n",
       "      <td>Web</td>\n",
       "      <td>150</td>\n",
       "      <td>1840</td>\n",
       "    </tr>\n",
       "    <tr>\n",
       "      <td>3</td>\n",
       "      <td>2020-03-07 00:00:09.956</td>\n",
       "      <td>2519284</td>\n",
       "      <td>Web</td>\n",
       "      <td>12</td>\n",
       "      <td>303</td>\n",
       "    </tr>\n",
       "    <tr>\n",
       "      <td>4</td>\n",
       "      <td>2020-03-07 00:00:11.472</td>\n",
       "      <td>926242</td>\n",
       "      <td>Web</td>\n",
       "      <td>111</td>\n",
       "      <td>1706</td>\n",
       "    </tr>\n",
       "  </tbody>\n",
       "</table>\n",
       "</div>"
      ],
      "text/plain": [
       "                 timestamp  user_id platform  course_id  chapter_id\n",
       "0  2020-03-07 00:00:05.448  3084148      Web         19         502\n",
       "1  2020-03-07 00:00:06.822  2817123      Web         61         850\n",
       "2  2020-03-07 00:00:07.521  3122446      Web        150        1840\n",
       "3  2020-03-07 00:00:09.956  2519284      Web         12         303\n",
       "4  2020-03-07 00:00:11.472   926242      Web        111        1706"
      ]
     },
     "execution_count": 30,
     "metadata": {},
     "output_type": "execute_result"
    }
   ],
   "source": [
    "df['course_id']=df['course_id'].astype(np.float).astype(\"Int32\")\n",
    "df['chapter_id']=df['chapter_id'].astype(np.float).astype(\"Int32\")\n",
    "df['user_id']=df['user_id'].astype(np.float).astype(\"Int32\").astype(str)\n",
    "df.shape\n",
    "df.head()\n"
   ]
  },
  {
   "cell_type": "code",
   "execution_count": 31,
   "metadata": {},
   "outputs": [
    {
     "data": {
      "text/plain": [
       "timestamp     object\n",
       "user_id       object\n",
       "platform      object\n",
       "course_id      Int32\n",
       "chapter_id     Int32\n",
       "dtype: object"
      ]
     },
     "execution_count": 31,
     "metadata": {},
     "output_type": "execute_result"
    }
   ],
   "source": [
    "df.dtypes"
   ]
  },
  {
   "cell_type": "code",
   "execution_count": 32,
   "metadata": {},
   "outputs": [],
   "source": [
    "df.to_sql(\"course\", conn, if_exists=\"replace\")\n",
    "#df.to_sql() function is used to write records stored in a DataFrame to a SQL database.\n",
    "#first arg : name of db table\n",
    "#conn:conection param\n",
    "\n"
   ]
  },
  {
   "cell_type": "code",
   "execution_count": 9,
   "metadata": {},
   "outputs": [
    {
     "name": "stdout",
     "output_type": "stream",
     "text": [
      "(149299,)\n"
     ]
    }
   ],
   "source": [
    "cursor.execute('''SELECT count(*) from course''')\n",
    "user1 = cursor.fetchone() \n",
    "print(user1)"
   ]
  },
  {
   "cell_type": "code",
   "execution_count": 10,
   "metadata": {},
   "outputs": [
    {
     "data": {
      "text/plain": [
       "[(0, 'index', 'INTEGER', 0, None, 0),\n",
       " (1, 'timestamp', 'TEXT', 0, None, 0),\n",
       " (2, 'user_id', 'TEXT', 0, None, 0),\n",
       " (3, 'platform', 'TEXT', 0, None, 0),\n",
       " (4, 'course_id', 'INTEGER', 0, None, 0),\n",
       " (5, 'chapter_id', 'INTEGER', 0, None, 0)]"
      ]
     },
     "execution_count": 10,
     "metadata": {},
     "output_type": "execute_result"
    }
   ],
   "source": [
    "cursor.execute(\"PRAGMA table_info('course')\").fetchall()"
   ]
  },
  {
   "cell_type": "code",
   "execution_count": 11,
   "metadata": {},
   "outputs": [
    {
     "name": "stdout",
     "output_type": "stream",
     "text": [
      "(0, '2020-03-07 00:00:05.448', '3084148', 'Web', 19, 502)\n"
     ]
    }
   ],
   "source": [
    "cursor.execute('''SELECT * from course''')\n",
    "row1 = cursor.fetchone() \n",
    "print(row1)"
   ]
  },
  {
   "cell_type": "code",
   "execution_count": 12,
   "metadata": {},
   "outputs": [
    {
     "name": "stdout",
     "output_type": "stream",
     "text": [
      "[('00:00:05', '3084148'), ('00:00:06', '2817123'), ('00:00:07', '3122446'), ('00:00:09', '2519284'), ('00:00:11', '926242')]\n"
     ]
    }
   ],
   "source": [
    "cursor.execute('''select time(timestamp)   as part_of_day,user_id\n",
    "from course limit 5''')\n",
    "row1 = cursor.fetchall() \n",
    "print(row1)"
   ]
  },
  {
   "cell_type": "code",
   "execution_count": 13,
   "metadata": {},
   "outputs": [
    {
     "name": "stdout",
     "output_type": "stream",
     "text": [
      "[('Afternoon', 31798), ('Evening', 55208), ('Morning', 62293)]\n"
     ]
    }
   ],
   "source": [
    "cursor.execute('''select part_of_day,count(*) from (select case when time(timestamp) between '00:00:01' and '12:00:00' then 'Morning' \n",
    "when time(timestamp) between '12:00:01' and '17:00:00' then 'Afternoon' \n",
    "else 'Evening'\n",
    "end as part_of_day,user_id\n",
    "from course)a\n",
    "group by part_of_day''')\n",
    "row1 = cursor.fetchall() \n",
    "print(row1)"
   ]
  },
  {
   "cell_type": "code",
   "execution_count": 14,
   "metadata": {},
   "outputs": [
    {
     "data": {
      "text/html": [
       "<div>\n",
       "<style scoped>\n",
       "    .dataframe tbody tr th:only-of-type {\n",
       "        vertical-align: middle;\n",
       "    }\n",
       "\n",
       "    .dataframe tbody tr th {\n",
       "        vertical-align: top;\n",
       "    }\n",
       "\n",
       "    .dataframe thead th {\n",
       "        text-align: right;\n",
       "    }\n",
       "</style>\n",
       "<table border=\"1\" class=\"dataframe\">\n",
       "  <thead>\n",
       "    <tr style=\"text-align: right;\">\n",
       "      <th></th>\n",
       "      <th>part_of_day</th>\n",
       "      <th>cnt</th>\n",
       "    </tr>\n",
       "  </thead>\n",
       "  <tbody>\n",
       "    <tr>\n",
       "      <th>0</th>\n",
       "      <td>Afternoon</td>\n",
       "      <td>31798</td>\n",
       "    </tr>\n",
       "    <tr>\n",
       "      <th>1</th>\n",
       "      <td>Evening</td>\n",
       "      <td>55208</td>\n",
       "    </tr>\n",
       "    <tr>\n",
       "      <th>2</th>\n",
       "      <td>Morning</td>\n",
       "      <td>62293</td>\n",
       "    </tr>\n",
       "  </tbody>\n",
       "</table>\n",
       "</div>"
      ],
      "text/plain": [
       "  part_of_day    cnt\n",
       "0   Afternoon  31798\n",
       "1     Evening  55208\n",
       "2     Morning  62293"
      ]
     },
     "execution_count": 14,
     "metadata": {},
     "output_type": "execute_result"
    }
   ],
   "source": [
    "df1 = pd.read_sql_query('''select part_of_day,count(*) as cnt from (select case when time(timestamp) between '00:00:01' and '12:00:00' then 'Morning' \n",
    "when time(timestamp) between '12:00:01' and '17:00:00' then 'Afternoon' \n",
    "else 'Evening'\n",
    "end as part_of_day,user_id\n",
    "from course)a\n",
    "group by part_of_day''', conn)\n",
    "df1.head()"
   ]
  },
  {
   "cell_type": "code",
   "execution_count": 15,
   "metadata": {},
   "outputs": [
    {
     "data": {
      "text/html": [
       "<div>\n",
       "<style scoped>\n",
       "    .dataframe tbody tr th:only-of-type {\n",
       "        vertical-align: middle;\n",
       "    }\n",
       "\n",
       "    .dataframe tbody tr th {\n",
       "        vertical-align: top;\n",
       "    }\n",
       "\n",
       "    .dataframe thead th {\n",
       "        text-align: right;\n",
       "    }\n",
       "</style>\n",
       "<table border=\"1\" class=\"dataframe\">\n",
       "  <thead>\n",
       "    <tr style=\"text-align: right;\">\n",
       "      <th></th>\n",
       "      <th>part_of_day</th>\n",
       "      <th>course_id</th>\n",
       "      <th>cnt</th>\n",
       "    </tr>\n",
       "  </thead>\n",
       "  <tbody>\n",
       "    <tr>\n",
       "      <th>0</th>\n",
       "      <td>Morning</td>\n",
       "      <td>187.0</td>\n",
       "      <td>7243</td>\n",
       "    </tr>\n",
       "    <tr>\n",
       "      <th>1</th>\n",
       "      <td>Morning</td>\n",
       "      <td>150.0</td>\n",
       "      <td>6667</td>\n",
       "    </tr>\n",
       "    <tr>\n",
       "      <th>2</th>\n",
       "      <td>Evening</td>\n",
       "      <td>150.0</td>\n",
       "      <td>6317</td>\n",
       "    </tr>\n",
       "    <tr>\n",
       "      <th>3</th>\n",
       "      <td>Evening</td>\n",
       "      <td>187.0</td>\n",
       "      <td>5279</td>\n",
       "    </tr>\n",
       "    <tr>\n",
       "      <th>4</th>\n",
       "      <td>Afternoon</td>\n",
       "      <td>150.0</td>\n",
       "      <td>3572</td>\n",
       "    </tr>\n",
       "  </tbody>\n",
       "</table>\n",
       "</div>"
      ],
      "text/plain": [
       "  part_of_day  course_id   cnt\n",
       "0     Morning      187.0  7243\n",
       "1     Morning      150.0  6667\n",
       "2     Evening      150.0  6317\n",
       "3     Evening      187.0  5279\n",
       "4   Afternoon      150.0  3572"
      ]
     },
     "execution_count": 15,
     "metadata": {},
     "output_type": "execute_result"
    }
   ],
   "source": [
    "df2 = pd.read_sql_query('''select part_of_day,course_id,count(*) as cnt from (select case when time(timestamp) between '00:00:01' and '12:00:00' then 'Morning' \n",
    "when time(timestamp) between '12:00:01' and '17:00:00' then 'Afternoon' \n",
    "else 'Evening'\n",
    "end as part_of_day,course_id \n",
    "from course)a\n",
    "group by part_of_day,course_id\n",
    "order by cnt desc''', conn)\n",
    "df2.head()"
   ]
  },
  {
   "cell_type": "code",
   "execution_count": 16,
   "metadata": {},
   "outputs": [
    {
     "data": {
      "text/html": [
       "<div>\n",
       "<style scoped>\n",
       "    .dataframe tbody tr th:only-of-type {\n",
       "        vertical-align: middle;\n",
       "    }\n",
       "\n",
       "    .dataframe tbody tr th {\n",
       "        vertical-align: top;\n",
       "    }\n",
       "\n",
       "    .dataframe thead th {\n",
       "        text-align: right;\n",
       "    }\n",
       "</style>\n",
       "<table border=\"1\" class=\"dataframe\">\n",
       "  <thead>\n",
       "    <tr style=\"text-align: right;\">\n",
       "      <th></th>\n",
       "      <th>part_of_day</th>\n",
       "      <th>chapter_id</th>\n",
       "      <th>cnt</th>\n",
       "    </tr>\n",
       "  </thead>\n",
       "  <tbody>\n",
       "    <tr>\n",
       "      <th>0</th>\n",
       "      <td>Morning</td>\n",
       "      <td>1921.0</td>\n",
       "      <td>1121</td>\n",
       "    </tr>\n",
       "    <tr>\n",
       "      <th>1</th>\n",
       "      <td>Morning</td>\n",
       "      <td>1924.0</td>\n",
       "      <td>1062</td>\n",
       "    </tr>\n",
       "    <tr>\n",
       "      <th>2</th>\n",
       "      <td>Morning</td>\n",
       "      <td>1922.0</td>\n",
       "      <td>857</td>\n",
       "    </tr>\n",
       "    <tr>\n",
       "      <th>3</th>\n",
       "      <td>Morning</td>\n",
       "      <td>1923.0</td>\n",
       "      <td>786</td>\n",
       "    </tr>\n",
       "    <tr>\n",
       "      <th>4</th>\n",
       "      <td>Evening</td>\n",
       "      <td>1924.0</td>\n",
       "      <td>753</td>\n",
       "    </tr>\n",
       "  </tbody>\n",
       "</table>\n",
       "</div>"
      ],
      "text/plain": [
       "  part_of_day  chapter_id   cnt\n",
       "0     Morning      1921.0  1121\n",
       "1     Morning      1924.0  1062\n",
       "2     Morning      1922.0   857\n",
       "3     Morning      1923.0   786\n",
       "4     Evening      1924.0   753"
      ]
     },
     "execution_count": 16,
     "metadata": {},
     "output_type": "execute_result"
    }
   ],
   "source": [
    "df3 = pd.read_sql_query('''select part_of_day,chapter_id,count(*) as cnt from (select case when time(timestamp) between '00:00:01' and '12:00:00' then 'Morning' \n",
    "when time(timestamp) between '12:00:01' and '17:00:00' then 'Afternoon' \n",
    "else 'Evening'\n",
    "end as part_of_day,chapter_id\n",
    "from course)a\n",
    "group by part_of_day,chapter_id\n",
    "order by cnt desc''', conn)\n",
    "df3.head()"
   ]
  },
  {
   "cell_type": "code",
   "execution_count": null,
   "metadata": {},
   "outputs": [],
   "source": []
  }
 ],
 "metadata": {
  "kernelspec": {
   "display_name": "Python 3",
   "language": "python",
   "name": "python3"
  },
  "language_info": {
   "codemirror_mode": {
    "name": "ipython",
    "version": 3
   },
   "file_extension": ".py",
   "mimetype": "text/x-python",
   "name": "python",
   "nbconvert_exporter": "python",
   "pygments_lexer": "ipython3",
   "version": "3.7.4"
  }
 },
 "nbformat": 4,
 "nbformat_minor": 5
}
